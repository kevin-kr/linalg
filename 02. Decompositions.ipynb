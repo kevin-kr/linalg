{
 "cells": [
  {
   "cell_type": "markdown",
   "metadata": {},
   "source": [
    "## LU decomposition of a matrix A  \n",
    "<img src=\"https://github.com/kevin-kr/linalg/blob/master/images/LU.PN\">  \n",
    "`reference`  \n",
    "`https://en.wikipedia.org/wiki/LU_decomposition`"
   ]
  },
  {
   "cell_type": "code",
   "execution_count": 1,
   "metadata": {},
   "outputs": [],
   "source": [
    "import numpy as np\n",
    "import numpy.linalg as LA\n",
    "from scipy.linalg import lu"
   ]
  },
  {
   "cell_type": "code",
   "execution_count": 2,
   "metadata": {},
   "outputs": [],
   "source": [
    "A = np.array([[1, 2, 3],\n",
    "              [7, 4, 2],\n",
    "              [9, 3, 3]])\n",
    "b = np.array([4, 6, 8])"
   ]
  },
  {
   "cell_type": "code",
   "execution_count": 3,
   "metadata": {},
   "outputs": [
    {
     "data": {
      "text/plain": [
       "True"
      ]
     },
     "execution_count": 3,
     "metadata": {},
     "output_type": "execute_result"
    }
   ],
   "source": [
    "P, L, U = lu(A)\n",
    "\n",
    "np.allclose(A, P @ L @ U)"
   ]
  },
  {
   "cell_type": "markdown",
   "metadata": {},
   "source": [
    "### Gaussian elimination"
   ]
  },
  {
   "cell_type": "code",
   "execution_count": 30,
   "metadata": {},
   "outputs": [
    {
     "data": {
      "text/plain": [
       "array([[  1,  -2,   3],\n",
       "       [  0,  -1,   6],\n",
       "       [  0,   2, -10]])"
      ]
     },
     "execution_count": 30,
     "metadata": {},
     "output_type": "execute_result"
    }
   ],
   "source": [
    "A = np.array([[1, -2, 3],\n",
    "              [2, -5, 12],\n",
    "              [0, 2, -10]])\n",
    "\n",
    "U = A.copy()\n",
    "L = np.diag(np.array([1, 1, 1]))\n",
    "\n",
    "U[1] = U[1] - (U[0] * 2)\n",
    "L[1,0] = 2\n",
    "\n",
    "U"
   ]
  },
  {
   "cell_type": "code",
   "execution_count": 31,
   "metadata": {},
   "outputs": [
    {
     "data": {
      "text/plain": [
       "array([[ 1, -2,  3],\n",
       "       [ 0, -1,  6],\n",
       "       [ 0,  0,  2]])"
      ]
     },
     "execution_count": 31,
     "metadata": {},
     "output_type": "execute_result"
    }
   ],
   "source": [
    "U[2] = U[2] - (-2) * U[1]\n",
    "L[2,1] = -2\n",
    "\n",
    "U"
   ]
  },
  {
   "cell_type": "code",
   "execution_count": 33,
   "metadata": {},
   "outputs": [
    {
     "data": {
      "text/plain": [
       "True"
      ]
     },
     "execution_count": 33,
     "metadata": {},
     "output_type": "execute_result"
    }
   ],
   "source": [
    "np.allclose(A, L@U)"
   ]
  },
  {
   "cell_type": "markdown",
   "metadata": {},
   "source": [
    "## Singular Value Decomposition"
   ]
  },
  {
   "cell_type": "code",
   "execution_count": 4,
   "metadata": {},
   "outputs": [
    {
     "data": {
      "text/plain": [
       "True"
      ]
     },
     "execution_count": 4,
     "metadata": {},
     "output_type": "execute_result"
    }
   ],
   "source": [
    "U, S, V = LA.svd(A)\n",
    "\n",
    "np.allclose(A,\n",
    "            U @ np.diag(S) @ V)"
   ]
  },
  {
   "cell_type": "code",
   "execution_count": 5,
   "metadata": {},
   "outputs": [
    {
     "data": {
      "text/plain": [
       "True"
      ]
     },
     "execution_count": 5,
     "metadata": {},
     "output_type": "execute_result"
    }
   ],
   "source": [
    "np.allclose(A.T @ A,\n",
    "            V.T @ np.diag(S**2) @ V)"
   ]
  },
  {
   "cell_type": "code",
   "execution_count": 6,
   "metadata": {},
   "outputs": [
    {
     "data": {
      "text/plain": [
       "True"
      ]
     },
     "execution_count": 6,
     "metadata": {},
     "output_type": "execute_result"
    }
   ],
   "source": [
    "np.allclose(A @ A.T,\n",
    "            U @ np.diag(S**2) @ U.T)"
   ]
  },
  {
   "cell_type": "markdown",
   "metadata": {},
   "source": [
    "## Eigendecomposition  \n",
    "`reference` `https://www.youtube.com/watch?v=9ph42gNYlRs&list=PLep-kTP3NkcMm7SGMaTsn-S-nI60fHeBC`"
   ]
  },
  {
   "cell_type": "code",
   "execution_count": 7,
   "metadata": {},
   "outputs": [
    {
     "data": {
      "text/plain": [
       "array([10.29515791, -3.53251592,  1.23735801])"
      ]
     },
     "execution_count": 7,
     "metadata": {},
     "output_type": "execute_result"
    }
   ],
   "source": [
    "eigenvalues, eigenvectors = LA.eig(A)\n",
    "eigenvalues"
   ]
  },
  {
   "cell_type": "markdown",
   "metadata": {},
   "source": [
    "### Diagonalizable Matrix  \n",
    "<img src=\"images/Diagonalizable.png\">  "
   ]
  },
  {
   "cell_type": "code",
   "execution_count": 8,
   "metadata": {},
   "outputs": [
    {
     "data": {
      "text/plain": [
       "3"
      ]
     },
     "execution_count": 8,
     "metadata": {},
     "output_type": "execute_result"
    }
   ],
   "source": [
    "LA.matrix_rank(eigenvectors)"
   ]
  },
  {
   "cell_type": "code",
   "execution_count": 9,
   "metadata": {},
   "outputs": [
    {
     "data": {
      "text/plain": [
       "True"
      ]
     },
     "execution_count": 9,
     "metadata": {},
     "output_type": "execute_result"
    }
   ],
   "source": [
    "np.allclose(A, \n",
    "            eigenvectors @ np.diag(eigenvalues) @ LA.inv(eigenvectors))"
   ]
  },
  {
   "cell_type": "markdown",
   "metadata": {},
   "source": [
    "### Linear Transformation via Eigendecomposition\n",
    "\n",
    "### Change of Basis\n",
    "<img src=\"images/ChangeBasis.png\">"
   ]
  },
  {
   "cell_type": "code",
   "execution_count": 10,
   "metadata": {},
   "outputs": [],
   "source": [
    "import matplotlib.pyplot as plt"
   ]
  },
  {
   "cell_type": "code",
   "execution_count": 11,
   "metadata": {},
   "outputs": [
    {
     "data": {
      "image/png": "[encoded data removed]",
      "text/plain": [
       "<Figure size 432x288 with 1 Axes>"
      ]
     },
     "metadata": {
      "needs_background": "light"
     },
     "output_type": "display_data"
    }
   ],
   "source": [
    "def plot_vector2d(vector2d, origin=[0, 0], **options):\n",
    "    return plt.arrow(origin[0], origin[1],\n",
    "                     vector2d[0], vector2d[1],\n",
    "                     head_width=.2, head_length=.3, length_includes_head=True,\n",
    "                     **options)\n",
    "\n",
    "x = np.array([3, 4])\n",
    "v1 = np.array([3, 1])\n",
    "v2 = np.array([-2, 1])\n",
    "\n",
    "plot_vector2d(x, color='g')\n",
    "plot_vector2d(v1, color='r')\n",
    "plot_vector2d(v2, color='r')\n",
    "\n",
    "plt.text(2.5, 2.8, 'x', color='g', fontsize=18)\n",
    "plt.text(-1, .8, 'v2', color='r', fontsize=18)\n",
    "plt.text(2, .2, 'v1', color='r', fontsize=18)\n",
    "\n",
    "plt.axis([-3, 5, -1, 6])\n",
    "plt.grid()\n",
    "plt.show()"
   ]
  },
  {
   "cell_type": "code",
   "execution_count": 12,
   "metadata": {},
   "outputs": [
    {
     "data": {
      "image/png": "[encoded data removed]",
      "text/plain": [
       "<Figure size 432x288 with 1 Axes>"
      ]
     },
     "metadata": {
      "needs_background": "light"
     },
     "output_type": "display_data"
    }
   ],
   "source": [
    "# [v1 v2][y1 y2].T = [4 3].T\n",
    "y = np.array([2, 1])\n",
    "\n",
    "plot_vector2d(y, color='g')\n",
    "plot_vector2d(2*v1, color='r')\n",
    "plot_vector2d(v2, color='r')\n",
    "\n",
    "plt.text(1.8, 1.2, 'y', color='g', fontsize=18)\n",
    "plt.text(2, .2, 'v1', color='r', fontsize=18)\n",
    "plt.text(-1, .8, 'v2', color='r', fontsize=18)\n",
    "\n",
    "plt.axis([-3, 7, -1, 3])\n",
    "plt.grid()\n",
    "plt.show()"
   ]
  },
  {
   "cell_type": "markdown",
   "metadata": {},
   "source": [
    "### Element-wise Scaling  \n",
    "<img src=\"images/scaling.png\">"
   ]
  },
  {
   "cell_type": "code",
   "execution_count": 13,
   "metadata": {},
   "outputs": [
    {
     "data": {
      "image/png": "[encoded data removed]",
      "text/plain": [
       "<Figure size 432x288 with 1 Axes>"
      ]
     },
     "metadata": {
      "needs_background": "light"
     },
     "output_type": "display_data"
    }
   ],
   "source": [
    "plot_vector2d(v1, color='r', alpha=.5)\n",
    "plot_vector2d(-2*v1, color='r')\n",
    "plot_vector2d(2*v2, color='r')\n",
    "\n",
    "plt.text(-4, -1.9, 'v1', color='r', fontsize=18)\n",
    "plt.text(-3, 1.7, 'v2', color='r', fontsize=18)\n",
    "\n",
    "plt.axis([-7, 4, -4, 4])\n",
    "plt.grid()\n",
    "plt.show()"
   ]
  },
  {
   "cell_type": "markdown",
   "metadata": {},
   "source": [
    "### Back to Original Basis\n",
    "<img src=\"images/OriginalBasis.png\">  \n",
    "<img src=\"images/OriginalBasis2.png\">"
   ]
  },
  {
   "cell_type": "code",
   "execution_count": 14,
   "metadata": {},
   "outputs": [
    {
     "data": {
      "image/png": "[encoded data removed]",
      "text/plain": [
       "<Figure size 432x288 with 1 Axes>"
      ]
     },
     "metadata": {
      "needs_background": "light"
     },
     "output_type": "display_data"
    }
   ],
   "source": [
    "dest = np.array([-10, 0])\n",
    "\n",
    "plt.scatter(x[0], x[1], color='k', alpha=.5)\n",
    "plt.scatter(dest[0], dest[1], color='g')\n",
    "\n",
    "plot_vector2d(v1, color='r', alpha=.5)\n",
    "plot_vector2d(-2*v1, color='r')\n",
    "plot_vector2d(2*v2, color='r')\n",
    "\n",
    "plt.text(3.3, 3.8, 'x', color='k', fontsize=18)\n",
    "plt.text(-4, -1.9, 'v1', color='r', fontsize=18)\n",
    "plt.text(-3, 1.7, 'v2', color='r', fontsize=18)\n",
    "\n",
    "plt.axis([-11, 4, -3, 5])\n",
    "plt.grid()\n",
    "plt.show()"
   ]
  },
  {
   "cell_type": "markdown",
   "metadata": {},
   "source": [
    "*</end>*"
   ]
  }
 ],
 "metadata": {
  "kernelspec": {
   "display_name": "Python 3",
   "language": "python",
   "name": "python3"
  },
  "language_info": {
   "codemirror_mode": {
    "name": "ipython",
    "version": 3
   },
   "file_extension": ".py",
   "mimetype": "text/x-python",
   "name": "python",
   "nbconvert_exporter": "python",
   "pygments_lexer": "ipython3",
   "version": "3.7.3"
  }
 },
 "nbformat": 4,
 "nbformat_minor": 2
}
